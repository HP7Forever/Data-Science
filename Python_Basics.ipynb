{
  "nbformat": 4,
  "nbformat_minor": 0,
  "metadata": {
    "colab": {
      "provenance": [],
      "authorship_tag": "ABX9TyNMa9dl3IlMV2EWAXnwjBkW",
      "include_colab_link": true
    },
    "kernelspec": {
      "name": "python3",
      "display_name": "Python 3"
    },
    "language_info": {
      "name": "python"
    }
  },
  "cells": [
    {
      "cell_type": "markdown",
      "metadata": {
        "id": "view-in-github",
        "colab_type": "text"
      },
      "source": [
        "<a href=\"https://colab.research.google.com/github/HP7Forever/Data-Science/blob/main/Python_Basics.ipynb\" target=\"_parent\"><img src=\"https://colab.research.google.com/assets/colab-badge.svg\" alt=\"Open In Colab\"/></a>"
      ]
    },
    {
      "cell_type": "markdown",
      "source": [
        "**1. Explain the key features of Python that make it a popular choice for programming**"
      ],
      "metadata": {
        "id": "EeXODkFE0331"
      }
    },
    {
      "cell_type": "markdown",
      "source": [
        "Ans= The key features of Python that make it a popular choice for programming are:\n",
        "\n",
        "\n",
        "1.   It is widely used in industries.\n",
        "2.   It has a large standard library. This allow programmers to quickly develop projects.\n",
        "3. It is simple and flexible.\n",
        "4. It is widely used in data industry.\n",
        "5. It is also used for automation, Image processing.\n",
        "6. It is Dynamically typed language.\n",
        "7. It has simple syntax to code.\n",
        "8. It is free and open soucre language."
      ],
      "metadata": {
        "id": "io_LVQFL1JjK"
      }
    },
    {
      "cell_type": "markdown",
      "source": [
        "**2.  Describe the role of predefined keywords in Python and provide examples of how they are used in a program.**"
      ],
      "metadata": {
        "id": "pTjWH0g54Bdu"
      }
    },
    {
      "cell_type": "code",
      "source": [
        "\"\"\"Ans= Predefined keywords are the words with a special meanings\n",
        "so that the interpreter can understand them. They perform specific\n",
        " tasks in python programming and are a part of its syntax.\"\"\"\n",
        "\n",
        "#List of predefined keywords are:\n",
        "\n",
        "help('keywords')\n"
      ],
      "metadata": {
        "colab": {
          "base_uri": "https://localhost:8080/"
        },
        "id": "Wp7imQlX0ziu",
        "outputId": "27db877a-5f66-4373-9d45-4a41267a4ca8"
      },
      "execution_count": 12,
      "outputs": [
        {
          "output_type": "stream",
          "name": "stdout",
          "text": [
            "\n",
            "Here is a list of the Python keywords.  Enter any keyword to get more help.\n",
            "\n",
            "False               class               from                or\n",
            "None                continue            global              pass\n",
            "True                def                 if                  raise\n",
            "and                 del                 import              return\n",
            "as                  elif                in                  try\n",
            "assert              else                is                  while\n",
            "async               except              lambda              with\n",
            "await               finally             nonlocal            yield\n",
            "break               for                 not                 \n",
            "\n"
          ]
        }
      ]
    },
    {
      "cell_type": "code",
      "source": [
        "#Examples of predefined keywords are given below:\n",
        "\n",
        "# 1. print() it was a keyword in python 2 but as you can see above this is python 3\n",
        "# so we cannot consider print as a predefined keyword.\n"
      ],
      "metadata": {
        "id": "5ZHNOzw78Ppv"
      },
      "execution_count": 13,
      "outputs": []
    },
    {
      "cell_type": "code",
      "source": [
        "# 2. True/False\n",
        "\n",
        "# False\n",
        "a = 10\n",
        "b = 20\n",
        "a == b\n",
        "\n",
        "# Here we are comparing the value of a with b and as it was not equal\n",
        "# It will return Fasle."
      ],
      "metadata": {
        "colab": {
          "base_uri": "https://localhost:8080/"
        },
        "id": "o7uShXLC8SO_",
        "outputId": "85cdc938-caaf-46c8-caff-016be01231c4"
      },
      "execution_count": 14,
      "outputs": [
        {
          "output_type": "execute_result",
          "data": {
            "text/plain": [
              "False"
            ]
          },
          "metadata": {},
          "execution_count": 14
        }
      ]
    },
    {
      "cell_type": "code",
      "source": [
        "# True\n",
        "c = 20\n",
        "d = 20\n",
        "c == d\n",
        "# Here we are comparing the value of c with d and as it was equal\n",
        "# It will return True."
      ],
      "metadata": {
        "colab": {
          "base_uri": "https://localhost:8080/"
        },
        "id": "UldZJlt3_vgr",
        "outputId": "4e4f26ab-919d-41ea-9e1d-5aaf318d96e7"
      },
      "execution_count": 15,
      "outputs": [
        {
          "output_type": "execute_result",
          "data": {
            "text/plain": [
              "True"
            ]
          },
          "metadata": {},
          "execution_count": 15
        }
      ]
    },
    {
      "cell_type": "code",
      "source": [
        "# 3. if,elif,else - conditional\n",
        "\n",
        "a = 30\n",
        "if a>20:\n",
        "  print(\"Hello\")\n",
        "\n",
        "elif 0<=a<=20:\n",
        "  print(\"Wait\")\n",
        "\n",
        "else:\n",
        "  print(\"see you!\")"
      ],
      "metadata": {
        "colab": {
          "base_uri": "https://localhost:8080/"
        },
        "id": "qkXQGnZJSAhP",
        "outputId": "3a86615d-6ada-4a9c-cc10-68feaf55ad8e"
      },
      "execution_count": 16,
      "outputs": [
        {
          "output_type": "stream",
          "name": "stdout",
          "text": [
            "Hello\n"
          ]
        }
      ]
    },
    {
      "cell_type": "markdown",
      "source": [
        "**3. Compare and contrast mutable and immutable objects in Python with examples**"
      ],
      "metadata": {
        "id": "S8B5RI05TCwh"
      }
    },
    {
      "cell_type": "code",
      "source": [
        "# Ans=\n",
        "\"\"\" Mutable data types can be changed after creation,\n",
        "whereas immutable data types can't be changed after creation.\n",
        "You can add, remove, or modify the content of a mutable data type but can't\n",
        "do the same with an immutable data type. \"\"\"\n",
        "\n",
        "\"\"\"\n",
        "There are mutable objects such as lists,dictionaries, sets.\n",
        "There are immutable objects such as Integers, floats, strings,\n",
        "tuples, and booleans.\n",
        "\"\"\"\n",
        "\n",
        "# Example of mutable objects\n",
        "\n",
        "# List are the type of mutable object.\n",
        "\n",
        "a = [1,\"rohit\",2.2,\"be aware\"]\n",
        "print(a) # This will print the valued stored in a\n",
        "\n",
        "a[1] = \"Sam\" # we will update the 1 index from a,\n",
        "print(a)\n",
        "# Now the value in index1 will be replaced."
      ],
      "metadata": {
        "colab": {
          "base_uri": "https://localhost:8080/"
        },
        "id": "OacJwDXFTKY_",
        "outputId": "4031d417-cf5a-46c6-e9aa-ab5b5763082f"
      },
      "execution_count": 17,
      "outputs": [
        {
          "output_type": "stream",
          "name": "stdout",
          "text": [
            "[1, 'rohit', 2.2, 'be aware']\n",
            "[1, 'Sam', 2.2, 'be aware']\n"
          ]
        }
      ]
    },
    {
      "cell_type": "code",
      "source": [
        "# Example of immutable objects.\n",
        "\n",
        "# Strings are type of immutable objects.\n",
        "\n",
        "a = \"Rohit\"\n",
        "print(a)\n",
        "\n",
        "#Now i will try to change letter R to M\n",
        "a[0] = \"M\"\n",
        "print(a)\n",
        "\n",
        "# it will show error as strings are immutable it cannot be changed"
      ],
      "metadata": {
        "colab": {
          "base_uri": "https://localhost:8080/",
          "height": 228
        },
        "id": "V6wQCMBYDjlu",
        "outputId": "2880c396-b9ee-4c27-91dc-066349b26846"
      },
      "execution_count": 18,
      "outputs": [
        {
          "output_type": "stream",
          "name": "stdout",
          "text": [
            "Rohit\n"
          ]
        },
        {
          "output_type": "error",
          "ename": "TypeError",
          "evalue": "'str' object does not support item assignment",
          "traceback": [
            "\u001b[0;31m---------------------------------------------------------------------------\u001b[0m",
            "\u001b[0;31mTypeError\u001b[0m                                 Traceback (most recent call last)",
            "\u001b[0;32m<ipython-input-18-5da5d2bdfc5f>\u001b[0m in \u001b[0;36m<cell line: 9>\u001b[0;34m()\u001b[0m\n\u001b[1;32m      7\u001b[0m \u001b[0;34m\u001b[0m\u001b[0m\n\u001b[1;32m      8\u001b[0m \u001b[0;31m#Now i will try to change letter R to M\u001b[0m\u001b[0;34m\u001b[0m\u001b[0;34m\u001b[0m\u001b[0m\n\u001b[0;32m----> 9\u001b[0;31m \u001b[0ma\u001b[0m\u001b[0;34m[\u001b[0m\u001b[0;36m0\u001b[0m\u001b[0;34m]\u001b[0m \u001b[0;34m=\u001b[0m \u001b[0;34m\"M\"\u001b[0m\u001b[0;34m\u001b[0m\u001b[0;34m\u001b[0m\u001b[0m\n\u001b[0m\u001b[1;32m     10\u001b[0m \u001b[0mprint\u001b[0m\u001b[0;34m(\u001b[0m\u001b[0ma\u001b[0m\u001b[0;34m)\u001b[0m\u001b[0;34m\u001b[0m\u001b[0;34m\u001b[0m\u001b[0m\n\u001b[1;32m     11\u001b[0m \u001b[0;34m\u001b[0m\u001b[0m\n",
            "\u001b[0;31mTypeError\u001b[0m: 'str' object does not support item assignment"
          ]
        }
      ]
    },
    {
      "cell_type": "markdown",
      "source": [
        "**4. Discuss the different types of operators in Python and provide examples of how they are used.**"
      ],
      "metadata": {
        "id": "qnZaCjtjTV3P"
      }
    },
    {
      "cell_type": "code",
      "source": [
        "\"\"\"\n",
        "Different types of operators are\n",
        "1. Arithmetic Operators\n",
        "2. Comparison Operators\n",
        "3. Logical Operators\n",
        "4. Assignment Operators\n",
        "5. Bitwise Operators\n",
        "6. Membership Operators\n",
        "7. Identity Operators\n",
        "\"\"\"\n",
        "\n",
        "# Examples for the Arthimetic operators are:\n",
        "#1. Addition\n",
        "a = 3+5\n",
        "print(a)\n",
        "#2. Subtration\n",
        "a = 10-4\n",
        "print(a)\n",
        "#3. Multiplications\n",
        "a= 2*3\n",
        "print(a)\n",
        "#4. Division\n",
        "a= 8/4\n",
        "print(a)\n",
        "#Floor Division\n",
        "a= 7//2\n",
        "print(a)\n",
        "#Modulus\n",
        "a= 10%3\n",
        "print(a)\n",
        "#Exponentiation\n",
        "a= 2**3\n",
        "print(a)"
      ],
      "metadata": {
        "colab": {
          "base_uri": "https://localhost:8080/"
        },
        "id": "SWH0JYeATacs",
        "outputId": "73c07343-1dd9-4798-9ce2-d501d2e8b6d7"
      },
      "execution_count": 19,
      "outputs": [
        {
          "output_type": "stream",
          "name": "stdout",
          "text": [
            "8\n",
            "6\n",
            "6\n",
            "2.0\n",
            "3\n",
            "1\n",
            "8\n"
          ]
        }
      ]
    },
    {
      "cell_type": "code",
      "source": [
        "# Examples for the comparison operators\n",
        "x = 10\n",
        "y = 20\n",
        "print(x == y)     # False\n",
        "print(x < y)      # True\n"
      ],
      "metadata": {
        "colab": {
          "base_uri": "https://localhost:8080/"
        },
        "id": "qKE50VFuHgyK",
        "outputId": "26cfc94f-5d44-4b0d-efea-bd58cca0802f"
      },
      "execution_count": 20,
      "outputs": [
        {
          "output_type": "stream",
          "name": "stdout",
          "text": [
            "False\n",
            "True\n"
          ]
        }
      ]
    },
    {
      "cell_type": "code",
      "source": [
        "# Logical Operators\n",
        "a = True\n",
        "b = False\n",
        "print(a and b)    # False\n",
        "print(a or b)     # True\n",
        "print(not a)      # False\n"
      ],
      "metadata": {
        "colab": {
          "base_uri": "https://localhost:8080/"
        },
        "id": "NweuYzMQHpqd",
        "outputId": "4dbfdb30-976d-46b8-d63e-42e3cb77a6b5"
      },
      "execution_count": 28,
      "outputs": [
        {
          "output_type": "stream",
          "name": "stdout",
          "text": [
            "False\n",
            "True\n",
            "False\n"
          ]
        }
      ]
    },
    {
      "cell_type": "code",
      "source": [
        "# Assignment Operators\n",
        "x = 5\n",
        "x += 3    # x becomes 8\n",
        "x *= 2    # x becomes 16\n",
        "print(x)  # 16\n"
      ],
      "metadata": {
        "colab": {
          "base_uri": "https://localhost:8080/"
        },
        "id": "oQpZlfdUapFB",
        "outputId": "4454446c-71ec-4823-b159-10b1defde71b"
      },
      "execution_count": 29,
      "outputs": [
        {
          "output_type": "stream",
          "name": "stdout",
          "text": [
            "16\n"
          ]
        }
      ]
    },
    {
      "cell_type": "code",
      "source": [
        "# Bitwise Operators\n",
        "a = 5  # 0b0101 in binary\n",
        "b = 3  # 0b0011 in binary\n",
        "print(a & b)  # 1, binary 0b0001\n",
        "print(a | b)  # 7, binary 0b0111\n"
      ],
      "metadata": {
        "colab": {
          "base_uri": "https://localhost:8080/"
        },
        "id": "uUrH9-usat43",
        "outputId": "817309e7-d89b-48bd-8a55-e0a5be3d15e7"
      },
      "execution_count": 30,
      "outputs": [
        {
          "output_type": "stream",
          "name": "stdout",
          "text": [
            "1\n",
            "7\n"
          ]
        }
      ]
    },
    {
      "cell_type": "code",
      "source": [
        "# Membership Operators\n",
        "fruits = [\"apple\", \"banana\", \"cherry\"]\n",
        "print(\"banana\" in fruits)    # True\n",
        "print(\"grape\" not in fruits) # True\n"
      ],
      "metadata": {
        "colab": {
          "base_uri": "https://localhost:8080/"
        },
        "id": "WwtDGguMawgk",
        "outputId": "bdd9f72e-c2c2-4114-8854-57b3518666d8"
      },
      "execution_count": 31,
      "outputs": [
        {
          "output_type": "stream",
          "name": "stdout",
          "text": [
            "True\n",
            "True\n"
          ]
        }
      ]
    },
    {
      "cell_type": "code",
      "source": [
        "# Identity Operators\n",
        "x = [1, 2, 3]\n",
        "y = x\n",
        "z = [1, 2, 3]\n",
        "print(x is y)     # True, same object\n",
        "print(x is z)     # False, different objects\n"
      ],
      "metadata": {
        "colab": {
          "base_uri": "https://localhost:8080/"
        },
        "id": "zLry2Ldoa1_H",
        "outputId": "d341527e-bcec-4469-d95f-a2ce41be610e"
      },
      "execution_count": 32,
      "outputs": [
        {
          "output_type": "stream",
          "name": "stdout",
          "text": [
            "True\n",
            "False\n"
          ]
        }
      ]
    },
    {
      "cell_type": "markdown",
      "source": [
        "**5. Explain the concept of type casting in Python with examples.**"
      ],
      "metadata": {
        "id": "eUzO3-7HTa6_"
      }
    },
    {
      "cell_type": "code",
      "source": [
        "\"\"\"\n",
        "Type casting, or type conversion, is the process of converting one data type to\n",
        "another in Python. It can be done implicitly by Python when there is no risk of\n",
        "data loss, or explicitly by the programmer when specific conversions are\n",
        "required.\n",
        "\"\"\"\n",
        "# 1. Implicit Type Casting\n",
        "\"\"\"\n",
        "In implicit type casting, Python automatically converts one data type to another\n",
        "without explicit instruction.\n",
        "\"\"\"\n",
        "\n",
        "# Example for Implicit Type Casting:\n",
        "# Implicitly converts integer to float in addition\n",
        "num_int = 10       # Integer\n",
        "num_float = 3.5    # Float\n",
        "\n",
        "result = num_int + num_float  # num_int is implicitly converted to float\n",
        "print(result)    # 13.5 (float)\n",
        "print(type(result))  # <class 'float'>\n",
        "\n",
        "# 2. Explicit Type Casting\n",
        "# Example for Explicit Type Casting:\n",
        "# Converting String to Integer\n",
        "age_str = \"25\"\n",
        "age_int = int(age_str)  # Converts string to integer\n",
        "print(age_int)           # 25\n",
        "print(type(age_int))     # <class 'int'>\n"
      ],
      "metadata": {
        "colab": {
          "base_uri": "https://localhost:8080/"
        },
        "id": "AoapjZ7lTerH",
        "outputId": "eb347103-0df8-49ee-d149-3bf08057d834"
      },
      "execution_count": 21,
      "outputs": [
        {
          "output_type": "stream",
          "name": "stdout",
          "text": [
            "13.5\n",
            "<class 'float'>\n",
            "25\n",
            "<class 'int'>\n"
          ]
        }
      ]
    },
    {
      "cell_type": "markdown",
      "source": [
        "**6. How do conditional statements work in Python? Illustrate with examples.**"
      ],
      "metadata": {
        "id": "35BbPxXqTfhK"
      }
    },
    {
      "cell_type": "code",
      "source": [
        "\"\"\"\n",
        "Conditional statements in Python are used to execute code based on specific\n",
        "conditions. They allow a program to take different actions depending on whether\n",
        "a condition is true or false. The main conditional statements in Python are if,\n",
        "elif, and else.\n",
        "\"\"\"\n",
        "\n",
        "# 1. The if Statement\n",
        "\"\"\"\n",
        "The if statement checks a condition. If the condition is True, the code block\n",
        "inside the if statement is executed.\n",
        "\"\"\"\n",
        "age = 18\n",
        "if age >= 18:\n",
        "    print(\"You are eligible to vote.\")\n"
      ],
      "metadata": {
        "colab": {
          "base_uri": "https://localhost:8080/"
        },
        "id": "zw6bbrTITj9l",
        "outputId": "585c3947-3e3f-4047-fc51-812b5c05b281"
      },
      "execution_count": 22,
      "outputs": [
        {
          "output_type": "stream",
          "name": "stdout",
          "text": [
            "You are eligible to vote.\n"
          ]
        }
      ]
    },
    {
      "cell_type": "code",
      "source": [
        "# 2. The if-else Statement\n",
        "\"\"\"\n",
        "The if-else statement provides an alternative block of code to execute if the if\n",
        "condition is False.\n",
        "\"\"\"\n",
        "temperature = 30\n",
        "if temperature > 25:\n",
        "    print(\"It's a warm day.\")\n",
        "else:\n",
        "    print(\"It's a cool day.\")\n"
      ],
      "metadata": {
        "colab": {
          "base_uri": "https://localhost:8080/"
        },
        "id": "iEAosPEZKZwC",
        "outputId": "9eb79c52-9ed3-4e9f-ad2b-fa8a33421688"
      },
      "execution_count": 23,
      "outputs": [
        {
          "output_type": "stream",
          "name": "stdout",
          "text": [
            "It's a warm day.\n"
          ]
        }
      ]
    },
    {
      "cell_type": "code",
      "source": [
        "# 3. The if-elif-else Statement\n",
        "\"\"\"\n",
        "The if-elif-else statement allows multiple conditions to be checked in sequence.\n",
        "If the if condition is False, Python checks the elif condition(s). If none of\n",
        "the conditions are True, the else block is executed.\n",
        "\"\"\"\n",
        "score = 85\n",
        "\n",
        "if score >= 90:\n",
        "    print(\"Grade: A\")\n",
        "elif score >= 80:\n",
        "    print(\"Grade: B\")\n",
        "elif score >= 70:\n",
        "    print(\"Grade: C\")\n",
        "else:\n",
        "    print(\"Grade: D\")\n"
      ],
      "metadata": {
        "colab": {
          "base_uri": "https://localhost:8080/"
        },
        "id": "brwnYA4CKq5F",
        "outputId": "05a6743c-467d-49d6-e60c-c8895c17aecb"
      },
      "execution_count": 27,
      "outputs": [
        {
          "output_type": "stream",
          "name": "stdout",
          "text": [
            "Grade: B\n"
          ]
        }
      ]
    },
    {
      "cell_type": "code",
      "source": [
        "# 4. Nested if Statements\n",
        "\n",
        "age = 20\n",
        "citizen = True\n",
        "\n",
        "if age >= 18:\n",
        "    if citizen:\n",
        "        print(\"You are eligible to vote.\")\n",
        "    else:\n",
        "        print(\"You must be a citizen to vote.\")\n",
        "else:\n",
        "    print(\"You are not old enough to vote.\")\n"
      ],
      "metadata": {
        "colab": {
          "base_uri": "https://localhost:8080/"
        },
        "id": "VvjGkqCWK6w1",
        "outputId": "8c1b34cd-ac01-4251-ffce-5770980b338d"
      },
      "execution_count": 24,
      "outputs": [
        {
          "output_type": "stream",
          "name": "stdout",
          "text": [
            "You are eligible to vote.\n"
          ]
        }
      ]
    },
    {
      "cell_type": "code",
      "source": [
        "# 5. The if Statement with Logical Operators\n",
        "\n",
        "age = 25\n",
        "income = 30000\n",
        "\n",
        "if age >= 18 and income >= 25000:\n",
        "    print(\"You qualify for the loan.\")\n"
      ],
      "metadata": {
        "colab": {
          "base_uri": "https://localhost:8080/"
        },
        "id": "CDpF2ipVLD5p",
        "outputId": "9e166e3d-3333-41d3-8eab-531eabae9ab6"
      },
      "execution_count": 26,
      "outputs": [
        {
          "output_type": "stream",
          "name": "stdout",
          "text": [
            "You qualify for the loan.\n"
          ]
        }
      ]
    },
    {
      "cell_type": "markdown",
      "source": [
        "**7. Describe the different types of loops in Python and their use cases with examples.**"
      ],
      "metadata": {
        "id": "eVSUpY5zTkbh"
      }
    },
    {
      "cell_type": "code",
      "source": [
        "\"\"\"\n",
        "In Python, loops are used to execute a block of code multiple times, which is\n",
        "particularly useful for tasks that require repetition, such as iterating over a\n",
        "list, performing calculations, or handling user input. The main types of loops\n",
        "in Python are:\n",
        "\n",
        "1. for loop\n",
        "2. while loop\n",
        "\n",
        "Each of these has distinct use cases and behavior. Let's explore each in detail\n",
        "with examples.\n",
        "\"\"\"\n",
        "# 1. for Loop\n",
        "fruits = [\"apple\", \"banana\", \"cherry\"]\n",
        "for fruit in fruits:\n",
        "    print(fruit)\n",
        "\n",
        "# 2. while Loop\n",
        "count = 0\n",
        "while count < 5:\n",
        "    print(\"Count is:\", count)\n",
        "    count += 1\n",
        "\n",
        "# 3. break and continue Statements\n",
        "#Example: Using break in a for Loop\n",
        "for num in range(10):\n",
        "    if num == 5:\n",
        "        break  # Exit the loop when num is 5\n",
        "    print(num)\n",
        "\n",
        "#Example: Using continue in a while Loop\n",
        "count = 0\n",
        "while count < 5:\n",
        "    count += 1\n",
        "    if count == 3:\n",
        "        continue  # Skip the rest of the loop when count is 3\n",
        "    print(\"Count is:\", count)\n",
        "\n",
        "# 4. Nested Loops\n",
        "for i in range(3):         # Outer loop\n",
        "    for j in range(2):     # Inner loop\n",
        "        print(f\"i = {i}, j = {j}\")\n"
      ],
      "metadata": {
        "colab": {
          "base_uri": "https://localhost:8080/"
        },
        "id": "wSeb1AoBToyW",
        "outputId": "f3a32b19-7e44-43e6-b1da-d7aaf9642886"
      },
      "execution_count": 25,
      "outputs": [
        {
          "output_type": "stream",
          "name": "stdout",
          "text": [
            "apple\n",
            "banana\n",
            "cherry\n",
            "Count is: 0\n",
            "Count is: 1\n",
            "Count is: 2\n",
            "Count is: 3\n",
            "Count is: 4\n",
            "0\n",
            "1\n",
            "2\n",
            "3\n",
            "4\n",
            "Count is: 1\n",
            "Count is: 2\n",
            "Count is: 4\n",
            "Count is: 5\n",
            "i = 0, j = 0\n",
            "i = 0, j = 1\n",
            "i = 1, j = 0\n",
            "i = 1, j = 1\n",
            "i = 2, j = 0\n",
            "i = 2, j = 1\n"
          ]
        }
      ]
    }
  ]
}